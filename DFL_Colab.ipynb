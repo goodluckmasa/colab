{
  "nbformat": 4,
  "nbformat_minor": 0,
  "metadata": {
    "colab": {
      "name": "DFL_Colab.ipynb のコピー のコピー のコピー のコピー のコピー のコピー のコピー のコピー",
      "provenance": [],
      "collapsed_sections": [
        "tUNVcbujhm00",
        "TFenLvG4ztFp"
      ],
      "toc_visible": true
    },
    "kernelspec": {
      "name": "python3",
      "display_name": "Python 3"
    },
    "accelerator": "GPU"
  },
  "cells": [
    {
      "cell_type": "code",
      "metadata": {
        "id": "WJe71S6gbzt3"
      },
      "source": [
        "!nvidia-smi"
      ],
      "execution_count": null,
      "outputs": []
    },
    {
      "cell_type": "code",
      "metadata": {
        "id": "KgU8TsJNuzym"
      },
      "source": [
        "from google.colab import drive\n",
        "drive.mount('/content/drive')"
      ],
      "execution_count": null,
      "outputs": []
    },
    {
      "cell_type": "code",
      "metadata": {
        "id": "JG-f2WqT4fLK",
        "cellView": "form"
      },
      "source": [
        "#@title iperov\n",
        "\n",
        "Mode = \"install\" #@param [\"install\", \"update\"]\n",
        "\n",
        "from pathlib import Path\n",
        "if (Mode == \"install\"):\n",
        "  !git clone https://github.com/iperov/DeepFaceLab.git\n",
        "\n",
        "  # fix linux warning\n",
        "  # /usr/lib/python3.6/multiprocessing/semaphore_tracker.py:143: UserWarning: semaphore_tracker: There appear to be 1 leaked semaphores to clean up at shutdown\n",
        "  fin = open(\"/usr/lib/python3.6/multiprocessing/semaphore_tracker.py\", \"rt\")\n",
        "  data = fin.read()\n",
        "  data = data.replace('if cache:', 'if False:')\n",
        "  fin.close()\n",
        "\n",
        "  fin = open(\"/usr/lib/python3.6/multiprocessing/semaphore_tracker.py\", \"wt\")\n",
        "  fin.write(data)\n",
        "  fin.close()\n",
        "else:\n",
        "  %cd /content/DeepFaceLab\n",
        "  !git pull\n",
        "\n",
        "!pip uninstall -y tensorflow\n",
        "!pip install -r /content/DeepFaceLab/requirements-colab.txt\n",
        "!pip install --upgrade scikit-image\n",
        "!apt-get install cuda-10-0\n",
        "\n",
        "\n",
        "if not Path(\"/content/workspace\").exists():\n",
        "  !mkdir /content/workspace; mkdir /content/workspace/data_src; mkdir /content/workspace/data_src/aligned; mkdir /content/workspace/data_dst; mkdir /content/workspace/data_dst/aligned; mkdir /content/workspace/model  \n",
        "\n",
        "import IPython\n",
        "from google.colab import output\n",
        "\n",
        "display(IPython.display.Javascript('''\n",
        " function ClickConnect(){\n",
        "   btn = document.querySelector(\"colab-connect-button\")\n",
        "   if (btn != null){\n",
        "     console.log(\"Click colab-connect-button\"); \n",
        "     btn.click() \n",
        "     }\n",
        "   \n",
        "   btn = document.getElementById('ok')\n",
        "   if (btn != null){\n",
        "     console.log(\"Click reconnect\"); \n",
        "     btn.click() \n",
        "     }\n",
        "  }\n",
        "  \n",
        "setInterval(ClickConnect,60000)\n",
        "'''))\n",
        "\n",
        "print(\"\\nDone!\")"
      ],
      "execution_count": null,
      "outputs": []
    },
    {
      "cell_type": "code",
      "metadata": {
        "id": "evKlQfiE8I2T",
        "cellView": "form"
      },
      "source": [
        "#@title Install custom\n",
        "\n",
        "Mode = \"install\" #@param [\"install\", \"update\"]\n",
        "\n",
        "from pathlib import Path\n",
        "if (Mode == \"install\"):\n",
        "  !git clone -b custom https://github.com/goodluckmasa/DeepFaceLab.git\n",
        "\n",
        "  # fix linux warning\n",
        "  # /usr/lib/python3.6/multiprocessing/semaphore_tracker.py:143: UserWarning: semaphore_tracker: There appear to be 1 leaked semaphores to clean up at shutdown\n",
        "  fin = open(\"/usr/lib/python3.6/multiprocessing/semaphore_tracker.py\", \"rt\")\n",
        "  data = fin.read()\n",
        "  data = data.replace('if cache:', 'if False:')\n",
        "  fin.close()\n",
        "\n",
        "  fin = open(\"/usr/lib/python3.6/multiprocessing/semaphore_tracker.py\", \"wt\")\n",
        "  fin.write(data)\n",
        "  fin.close()\n",
        "else:\n",
        "  %cd /content/DeepFaceLab\n",
        "  !git pull\n",
        "\n",
        "!pip uninstall -y tensorflow\n",
        "!pip install -r /content/DeepFaceLab/requirements-colab.txt\n",
        "!pip install --upgrade scikit-image\n",
        "!apt-get install cuda-10-0\n",
        "\n",
        "\n",
        "if not Path(\"/content/workspace\").exists():\n",
        "  !mkdir /content/workspace; mkdir /content/workspace/data_src; mkdir /content/workspace/data_src/aligned; mkdir /content/workspace/data_dst; mkdir /content/workspace/data_dst/aligned; mkdir /content/workspace/model  \n",
        "\n",
        "import IPython\n",
        "from google.colab import output\n",
        "\n",
        "display(IPython.display.Javascript('''\n",
        " function ClickConnect(){\n",
        "   btn = document.querySelector(\"colab-connect-button\")\n",
        "   if (btn != null){\n",
        "     console.log(\"Click colab-connect-button\"); \n",
        "     btn.click() \n",
        "     }\n",
        "   \n",
        "   btn = document.getElementById('ok')\n",
        "   if (btn != null){\n",
        "     console.log(\"Click reconnect\"); \n",
        "     btn.click() \n",
        "     }\n",
        "  }\n",
        "  \n",
        "setInterval(ClickConnect,60000)\n",
        "'''))\n",
        "\n",
        "print(\"\\nDone!\")"
      ],
      "execution_count": null,
      "outputs": []
    },
    {
      "cell_type": "code",
      "metadata": {
        "id": "qzmBlENqg8Ar",
        "cellView": "form"
      },
      "source": [
        "#@title get FFHQ pretrain from github\n",
        "!wget -q --no-check-certificate -r 'https://github.com/goodluckmasa/colab/releases/download/test/faceset.zip' -O /content/faceset.zip\n",
        "!mkdir /content/pretrain\n",
        "!unzip -q /content/faceset.zip -d /content/pretrain/\n",
        "!rm /content/faceset.zip\n"
      ],
      "execution_count": null,
      "outputs": []
    },
    {
      "cell_type": "markdown",
      "metadata": {
        "id": "NeNBejRSmXCS"
      },
      "source": [
        "# rife\n"
      ]
    },
    {
      "cell_type": "code",
      "metadata": {
        "id": "1e_i3SMmnLfV"
      },
      "source": [
        "!git clone https://github.com/hzwer/arXiv2020-RIFE"
      ],
      "execution_count": null,
      "outputs": []
    },
    {
      "cell_type": "code",
      "metadata": {
        "id": "IGL-U-5wnQDs",
        "cellView": "form"
      },
      "source": [
        "#@title model\n",
        "!gdown --id 1wsQIhHZ3Eg4_AfCXItFKqqyDMB4NS0Yd\n",
        "!7z e RIFE_trained_model_HDv2.zip"
      ],
      "execution_count": null,
      "outputs": []
    },
    {
      "cell_type": "code",
      "metadata": {
        "id": "e-_YGFlAnYOG",
        "cellView": "form"
      },
      "source": [
        "#@title prepare\n",
        "!mkdir /content/arXiv2020-RIFE/train_log\n",
        "!mv *.pkl /content/arXiv2020-RIFE/train_log/\n",
        "%cd /content/arXiv2020-RIFE/\n",
        "!gdown --id 1i3xlKb7ax7Y70khcTcuePi6E7crO_dFc\n",
        "!pip3 install -r requirements.txt"
      ],
      "execution_count": null,
      "outputs": []
    },
    {
      "cell_type": "code",
      "metadata": {
        "id": "OhNtA4M2nZKe"
      },
      "source": [
        "!python3 inference_video.py --exp=1 --video="
      ],
      "execution_count": null,
      "outputs": []
    },
    {
      "cell_type": "markdown",
      "metadata": {
        "id": "hqwOlJG4MdLC"
      },
      "source": [
        "# Manage workspace\n",
        "\n",
        "\n",
        "\n",
        "\n"
      ]
    },
    {
      "cell_type": "code",
      "metadata": {
        "id": "z4w_sUzgOQmL",
        "cellView": "form"
      },
      "source": [
        "#@title Import from Drive\n",
        "\n",
        "Mode = \"workspace\" #@param [\"workspace\", \"data_src\", \"data_dst\", \"data_src aligned\", \"data_dst aligned\", \"models\"]\n",
        "Archive_name = \"workspace.zip\" #@param {type:\"string\"}\n",
        "\n",
        "#Mount Google Drive as folder\n",
        "from google.colab import drive\n",
        "drive.mount('/content/drive', force_remount=True)\n",
        "\n",
        "def zip_and_copy(path, mode):\n",
        "  unzip_cmd=\" -q \"+Archive_name\n",
        "  \n",
        "  %cd $path\n",
        "  copy_cmd = \"/content/drive/My\\ Drive/\"+Archive_name+\" \"+path\n",
        "  !cp $copy_cmd\n",
        "  !unzip $unzip_cmd    \n",
        "  !rm $Archive_name\n",
        "\n",
        "if Mode == \"workspace\":\n",
        "  zip_and_copy(\"/content\", \"workspace\")\n",
        "elif Mode == \"data_src\":\n",
        "  zip_and_copy(\"/content/workspace\", \"data_src\")\n",
        "elif Mode == \"data_dst\":\n",
        "  zip_and_copy(\"/content/workspace\", \"data_dst\")\n",
        "elif Mode == \"data_src aligned\":\n",
        "  zip_and_copy(\"/content/workspace/data_src\", \"aligned\")\n",
        "elif Mode == \"data_dst aligned\":\n",
        "  zip_and_copy(\"/content/workspace/data_dst\", \"aligned\")\n",
        "elif Mode == \"models\":\n",
        "  zip_and_copy(\"/content/workspace\", \"model\")\n",
        "  \n",
        "print(\"Done!\")\n",
        "\n"
      ],
      "execution_count": null,
      "outputs": []
    },
    {
      "cell_type": "code",
      "metadata": {
        "id": "0Y3WfuwoNXqC",
        "cellView": "form"
      },
      "source": [
        "#@title Export to Drive { form-width: \"30%\" }\n",
        "Mode = \"workspace\" #@param [\"workspace\", \"data_src\", \"data_dst\", \"data_src aligned\", \"data_dst aligned\", \"merged\", \"merged_mask\", \"models\", \"result video\", \"result_mask video\"]\n",
        "Archive_name = \"workspace.zip\" #@param {type:\"string\"}\n",
        "\n",
        "#Mount Google Drive as folder\n",
        "from google.colab import drive\n",
        "drive.mount('/content/drive', force_remount=True)\n",
        "\n",
        "def zip_and_copy(path, mode):\n",
        "  zip_cmd=\"-r -q \"+Archive_name+\" \"\n",
        "  \n",
        "  %cd $path\n",
        "  zip_cmd+=mode\n",
        "  !zip $zip_cmd\n",
        "  copy_cmd = \" \"+Archive_name+\"  /content/drive/My\\ Drive/\"\n",
        "  !cp $copy_cmd\n",
        "  !rm $Archive_name\n",
        "\n",
        "if Mode == \"workspace\":\n",
        "  zip_and_copy(\"/content\", \"workspace\")\n",
        "elif Mode == \"data_src\":\n",
        "  zip_and_copy(\"/content/workspace\", \"data_src\")\n",
        "elif Mode == \"data_dst\":\n",
        "  zip_and_copy(\"/content/workspace\", \"data_dst\")\n",
        "elif Mode == \"data_src aligned\":\n",
        "  zip_and_copy(\"/content/workspace/data_src\", \"aligned\")\n",
        "elif Mode == \"data_dst aligned\":\n",
        "  zip_and_copy(\"/content/workspace/data_dst\", \"aligned\")\n",
        "elif Mode == \"merged\":\n",
        "  zip_and_copy(\"/content/workspace/data_dst\", \"merged\")\n",
        "elif Mode == \"merged_mask\":\n",
        "  zip_and_copy(\"/content/workspace/data_dst\", \"merged_mask\")\n",
        "elif Mode == \"models\":\n",
        "  zip_and_copy(\"/content/workspace\", \"model\")\n",
        "elif Mode == \"result video\":\n",
        "  !cp /content/workspace/result.mp4 /content/drive/My\\ Drive/\n",
        "elif Mode == \"result_mask video\":\n",
        "  !cp /content/workspace/result_mask.mp4 /content/drive/My\\ Drive/\n",
        "  \n",
        "print(\"Done!\")\n"
      ],
      "execution_count": null,
      "outputs": []
    },
    {
      "cell_type": "code",
      "metadata": {
        "id": "Ta6ue_UGMkki",
        "cellView": "form"
      },
      "source": [
        "#@title Delete and recreate\n",
        "Mode = \"Delete and recreate workspace\" #@param [\"Delete and recreate workspace\", \"Delete models\", \"Delete data_src\", \"Delete data_src aligned\", \"Delete data_src video\", \"Delete data_dst\", \"Delete data_dst aligned\", \"Delete merged frames\"]\n",
        "\n",
        "%cd \"/content\" \n",
        "\n",
        "if Mode == \"Delete and recreate workspace\":\n",
        "  cmd = \"rm -r /content/workspace ; mkdir /content/workspace; mkdir /content/workspace/data_src; mkdir /content/workspace/data_src/aligned; mkdir /content/workspace/data_dst; mkdir /content/workspace/data_dst/aligned; mkdir /content/workspace/model\"  \n",
        "elif Mode == \"Delete models\":\n",
        "  cmd = \"rm -r /content/workspace/model/*\"\n",
        "elif Mode == \"Delete data_src\":\n",
        "  cmd = \"rm /content/workspace/data_src/*.png || rm -r /content/workspace/data_src/*.jpg\"\n",
        "elif Mode == \"Delete data_src aligned\":\n",
        "  cmd = \"rm -r /content/workspace/data_src/aligned/*\"\n",
        "elif Mode == \"Delete data_src video\":\n",
        "  cmd = \"rm -r /content/workspace/data_src.*\"\n",
        "elif Mode == \"Delete data_dst\":\n",
        "  cmd = \"rm /content/workspace/data_dst/*.png || rm /content/workspace/data_dst/*.jpg\"\n",
        "elif Mode == \"Delete data_dst aligned\":\n",
        "  cmd = \"rm -r /content/workspace/data_dst/aligned/*\"\n",
        "elif Mode == \"Delete merged frames\":\n",
        "  cmd = \"rm -r /content/workspace/data_dst/merged; rm -r /content/workspace/data_dst/merged_mask\"\n",
        "  \n",
        "!$cmd\n",
        "print(\"Done!\")"
      ],
      "execution_count": null,
      "outputs": []
    },
    {
      "cell_type": "markdown",
      "metadata": {
        "id": "tUNVcbujhm00"
      },
      "source": [
        "# Extract, sorting and faceset tools in drive\n",
        "\n"
      ]
    },
    {
      "cell_type": "code",
      "metadata": {
        "id": "p816VwkKBcPx"
      },
      "source": [
        "import shutil\n",
        "shutil.copy('','/content/drive/MyDrive/1purlin/barn/workspace/data_src.mp4')"
      ],
      "execution_count": null,
      "outputs": []
    },
    {
      "cell_type": "code",
      "metadata": {
        "id": "qwJEbz5Nhot0",
        "cellView": "form"
      },
      "source": [
        "#@title Extract frames\n",
        "Video = \"data_src\" #@param [\"data_src\", \"data_dst\"]\n",
        "\n",
        "%cd \"/content/drive/MyDrive/1purlin/barn\"\n",
        "\n",
        "cmd = \"/content/DeepFaceLab/main.py videoed extract-video\"\n",
        "\n",
        "if Video == \"data_dst\":\n",
        "  cmd+= \" --input-file workspace/data_dst.* --output-dir workspace/data_dst/\"\n",
        "else:\n",
        "  cmd+= \" --input-file workspace/data_src.* --output-dir workspace/data_src/\"\n",
        "  \n",
        "!python $cmd"
      ],
      "execution_count": null,
      "outputs": []
    },
    {
      "cell_type": "code",
      "metadata": {
        "id": "bFmPo0s2lTil",
        "cellView": "form"
      },
      "source": [
        "#@title Denoise frames\n",
        "Data = \"data_src\" #@param [\"data_src\", \"data_dst\"]\n",
        "Factor = 1 #@param {type:\"slider\", min:1, max:20, step:1}\n",
        "\n",
        "%cd \"/content/drive/MyDrive/1purlin/barn1\"\n",
        "\n",
        "cmd = \"/content/DeepFaceLab/main.py videoed denoise-image-sequence --input-dir workspace/\"+Data+\" --factor \"+str(Factor)\n",
        "\n",
        "\n",
        "!python $cmd"
      ],
      "execution_count": null,
      "outputs": []
    },
    {
      "cell_type": "code",
      "metadata": {
        "id": "nmq0Sj2bmq7d",
        "cellView": "form"
      },
      "source": [
        "#@title Detect faces\n",
        "Data = \"data_dst\" #@param [\"data_src\", \"data_dst\"]\n",
        "Detector = \"S3FD (whole face)\" #@param [\"S3FD\", \"S3FD (whole face)\"]\n",
        "Debug = False #@param {type:\"boolean\"}\n",
        "\n",
        "%cd \"/content/drive/MyDrive/1purlin/barn\"\n",
        "\n",
        "detect_type = \"s3fd\"\n",
        "dbg = \" --output-debug\" if Debug else \" --no-output-debug\"\n",
        "\n",
        "folder = \"workspace/\"+Data\n",
        "folder_aligned = folder+\"/aligned\"\n",
        "\n",
        "cmd = \"/content/DeepFaceLab/main.py extract --input-dir \"+folder+\" --output-dir \"+folder_aligned\n",
        "cmd+=\" --detector \"+detect_type+\" --force-gpu-idxs 0\"+dbg\n",
        "\n",
        "if \"whole face\" in Detector:\n",
        "  cmd+=\" --face-type whole_face\" \n",
        "\n",
        "!python $cmd"
      ],
      "execution_count": null,
      "outputs": []
    },
    {
      "cell_type": "code",
      "metadata": {
        "id": "TRNxUFE6p6Eu",
        "cellView": "form"
      },
      "source": [
        "#@title Sort aligned\n",
        "Data = \"data_src\" #@param [\"data_src\", \"data_dst\"]\n",
        "sort_type = \"hist\" #@param [\"blur\", \"face-yaw\", \"face-pitch\", \"face-source-rect-size\", \"hist\", \"hist-dissim\", \"brightness\", \"hue\", \"black\", \"origname\", \"oneface\", \"final\", \"final-faster\", \"absdiff\"]\n",
        "\n",
        "%cd \"/content/drive/MyDrive/1purlin/barn1\"\n",
        "\n",
        "cmd = \"/content/DeepFaceLab/main.py sort --input-dir workspace/\"+Data+\"/aligned --by \"+sort_type\n",
        "\n",
        "\n",
        "!python $cmd"
      ],
      "execution_count": null,
      "outputs": []
    },
    {
      "cell_type": "code",
      "metadata": {
        "id": "O5MbnVDyXkP7",
        "cellView": "form"
      },
      "source": [
        "#@title Faceset Enhancer\n",
        "Data = \"data_src\" #@param [\"data_src\", \"data_dst\"]\n",
        "\n",
        "%cd \"/content/drive/MyDrive/1purlin/barn1\"\n",
        "\n",
        "data_path = \"/content/workspace/\"+Data+\"/aligned\"\n",
        "cmd = \"/content/DeepFaceLab/main.py facesettool enhance --input-dir \"+data_path\n",
        "!python $cmd"
      ],
      "execution_count": null,
      "outputs": []
    },
    {
      "cell_type": "code",
      "metadata": {
        "id": "-VVvtoBMGnrA",
        "cellView": "form"
      },
      "source": [
        "#@title Apply or remove XSeg mask to the faces\n",
        "Mode = \"Remove mask\" #@param [\"Apply mask\", \"Remove mask\"]\n",
        "Data = \"data_src\" #@param [\"data_src\", \"data_dst\"]\n",
        "\n",
        "%cd \"/content/drive/MyDrive/1purlin/barn1\"\n",
        "\n",
        "main_path = \"/content/DeepFaceLab/main.py \"\n",
        "data_path = \"/content/workspace/\"+Data+\"/aligned \"\n",
        "mode_arg = \"apply \" if Mode == \"Apply mask\" else \"remove \"\n",
        "cmd = main_path+\"xseg \"+mode_arg+\"--input-dir \"+data_path\n",
        "cmd += \"--model-dir /content/workspace/model\" if mode_arg == \"apply \" else \"\"\n",
        "\n",
        "!python $cmd"
      ],
      "execution_count": null,
      "outputs": []
    },
    {
      "cell_type": "code",
      "metadata": {
        "id": "1A0oX_LIve37",
        "cellView": "form"
      },
      "source": [
        "#@title Prepare Colab machine\n",
        "!pip install dominate\n",
        "\n",
        "from IPython.display import clear_output\n",
        "from google.colab import files\n",
        "from PIL import Image\n",
        "import matplotlib.pyplot as plt\n",
        "import warnings\n",
        "import os\n",
        "\n",
        "warnings.filterwarnings(\"ignore\")\n",
        "%matplotlib inline\n",
        "\n",
        "!rm -rf /content/sample_data\n",
        "!git clone --branch size https://github.com/goodluckmasa/DFDNet.git\n",
        "\n",
        "os.chdir('/content/DFDNet/')\n",
        "!pip install -r requirements.txt\n",
        "\n",
        "link_prefix = 'https://github.com/rocketsvm/DFDNet/releases/download/20200827/'\n",
        "wget_options = '-q --show-progress --progress=bar:noscroll --no-check-certificate -r'\n",
        "!wget $wget_options $link_prefix'latest_net_G.pth' -O 'latest_net_G.pth'\n",
        "!wget $wget_options $link_prefix'left_eye_32_center.npy' -O 'left_eye_32_center.npy'\n",
        "!wget $wget_options $link_prefix'left_eye_64_center.npy' -O 'left_eye_64_center.npy'\n",
        "!wget $wget_options $link_prefix'left_eye_128_center.npy' -O 'left_eye_128_center.npy'\n",
        "!wget $wget_options $link_prefix'left_eye_256_center.npy' -O 'left_eye_256_center.npy'\n",
        "!wget $wget_options $link_prefix'right_eye_32_center.npy' -O 'right_eye_32_center.npy'\n",
        "!wget $wget_options $link_prefix'right_eye_64_center.npy' -O 'right_eye_64_center.npy'\n",
        "!wget $wget_options $link_prefix'right_eye_128_center.npy' -O 'right_eye_128_center.npy'\n",
        "!wget $wget_options $link_prefix'right_eye_256_center.npy' -O 'right_eye_256_center.npy'\n",
        "!wget $wget_options $link_prefix'mouth_32_center.npy' -O 'mouth_32_center.npy'\n",
        "!wget $wget_options $link_prefix'mouth_64_center.npy' -O 'mouth_64_center.npy'\n",
        "!wget $wget_options $link_prefix'mouth_128_center.npy' -O 'mouth_128_center.npy'\n",
        "!wget $wget_options $link_prefix'mouth_256_center.npy' -O 'mouth_256_center.npy'\n",
        "!wget $wget_options $link_prefix'nose_32_center.npy' -O 'nose_32_center.npy'\n",
        "!wget $wget_options $link_prefix'nose_64_center.npy' -O 'nose_64_center.npy'\n",
        "!wget $wget_options $link_prefix'nose_128_center.npy' -O 'nose_128_center.npy'\n",
        "!wget $wget_options $link_prefix'nose_256_center.npy' -O 'nose_256_center.npy'\n",
        "!wget $wget_options $link_prefix'vgg19.pth' -O 'vgg19.pth'\n",
        "!mkdir -p /content/DFDNet/checkpoints/facefh_dictionary\n",
        "!mv latest_net_G.pth /content/DFDNet/checkpoints/facefh_dictionary\n",
        "!mkdir -p /content/DFDNet/DictionaryCenter512\n",
        "!mv *_center.npy /content/DFDNet/DictionaryCenter512\n",
        "!mkdir -p /content/DFDNet/weights\n",
        "!mv vgg19.pth /content/DFDNet/weights\n",
        "\n",
        "!nvidia-smi -L\n",
        "\n",
        "# print(\"0%/100%   Copying has started and will take about 4 minutes.\")\n",
        "# !rsync -ah --progress '/content/drive/My Drive/DFDNet/checkpoints/facefh_dictionary/latest_net_G.pth' '/content/DFDNet/checkpoints/facefh_dictionary'\n",
        "# print(\"33%/100%  Checkpoints copied\")\n",
        "# !rsync -ah --progress  '/content/drive/My Drive/DFDNet/weights/vgg19.pth' '/content/DFDNet/weights/'\n",
        "# print(\"66%/100%  Weights copied\")\n",
        "# !rsync -ah --progress -r '/content/drive/My Drive/DFDNet/DictionaryCenter512/' '/content/DFDNet/DictionaryCenter512/'\n",
        "# print(\"100%/100% Dictionary copied\")"
      ],
      "execution_count": null,
      "outputs": []
    },
    {
      "cell_type": "code",
      "metadata": {
        "id": "9NT-hvUD94qM",
        "cellView": "form"
      },
      "source": [
        "#@title Enchance!\n",
        "\n",
        "import os\n",
        "\n",
        "working_dir = \"/content/DFDNet\" #@param {type:\"string\"}\n",
        "aligned_zip = True #@param {type:\"boolean\"}\n",
        "jpeg_quality = 100 #@param {type:\"slider\", min:90, max:100, step:1}\n",
        "\n",
        "#@markdown Pick a folder from your Google Drive.\n",
        "\n",
        "#@markdown **working_dir** should contain **aligned** subfolder or **aligned.zip** file with JPG images that were extracted by DeepFaceLab *'faceset extract'* scripts.\n",
        "\n",
        "#@markdown Results will be saved in **aligned_dfdn** subfolder or **aligned_dfdn.zip** file in **working_dir**.\n",
        "\n",
        "#@markdown If working not in zip mode existing files will be skipped so you can easily continue in case of disconnect.\n",
        "\n",
        "if aligned_zip:\n",
        "  zip_path = os.path.join(working_dir,'aligned.zip')\n",
        "  if not os.path.isfile(zip_path):\n",
        "    print('\"{}\" not found'.format(zip_path))\n",
        "    sys.exit()\n",
        "  !rm -r '/content/aligned'\n",
        "  !rm -r '/content/aligned_dfdn'\n",
        "  !rsync -ah --progress \"$zip_path\" '/content/'\n",
        "  !mkdir -p '/content/aligned'\n",
        "  !7z e '/content/aligned.zip' -o'/content/aligned'\n",
        "  !rm '/content/aligned.zip'\n",
        "  w_dir = '/content/'\n",
        "  tmp_dir = ''\n",
        "else:\n",
        "  in_path = os.path.join(working_dir,'aligned')\n",
        "  out_path = os.path.join(working_dir,'aligned_dfdn')\n",
        "  if not os.path.isdir(in_path):\n",
        "    print('\"{}\" not found'.format(in_path))\n",
        "    sys.exit()\n",
        "  !mkdir -p \"$out_path\"\n",
        "  w_dir = working_dir\n",
        "  tmp_dir = '/content/'\n",
        "\n",
        "os.chdir('/content/DFDNet/')\n",
        "!python -W ignore test_DFL.py --working_dir \"$w_dir\" --jpeg_quality=$jpeg_quality --tmp_dir=\"$tmp_dir\"\n",
        "\n",
        "if aligned_zip:\n",
        "  !rm /content/aligned_dfdn.zip\n",
        "  !7z a /content/aligned_dfdn.zip /content/aligned_dfdn/*\n",
        "  output_zip = os.path.join(working_dir,'aligned_dfdn.zip')\n",
        "  !rsync -ah --progress /content/aligned_dfdn.zip \"$output_zip\"\n",
        "  print('Results saved to \"{}\"'.format(output_zip))"
      ],
      "execution_count": null,
      "outputs": []
    },
    {
      "cell_type": "markdown",
      "metadata": {
        "id": "TFenLvG4ztFp"
      },
      "source": [
        "# Extract, sorting and faceset in VM\n"
      ]
    },
    {
      "cell_type": "code",
      "metadata": {
        "id": "nnFQJjvMDs5J"
      },
      "source": [
        "import shutil\n",
        "shutil.copy('','/content/workspace/data_src.mp4')"
      ],
      "execution_count": null,
      "outputs": []
    },
    {
      "cell_type": "code",
      "metadata": {
        "id": "4WmMRfn7ztFs"
      },
      "source": [
        "#@title Extract frames\n",
        "Video = \"data_src\" #@param [\"data_src\", \"data_dst\"]\n",
        "\n",
        "%cd \"/content\"\n",
        "\n",
        "cmd = \"DeepFaceLab/main.py videoed extract-video \"\n",
        "\n",
        "if Video == \"data_dst\":\n",
        "  cmd+= \" --input-file workspace/data_dst.* --fps 0 --output-ext jpg --output-dir workspace/data_dst/\"\n",
        "else:\n",
        "  cmd+= \" --input-file workspace/data_src.* --output-ext png --output-dir workspace/data_src/\"\n",
        "  \n",
        "!python $cmd"
      ],
      "execution_count": null,
      "outputs": []
    },
    {
      "cell_type": "code",
      "metadata": {
        "id": "W9Ksr-gOztFs"
      },
      "source": [
        "#@title Detect faces\n",
        "Data = \"data_src\" #@param [\"data_src\", \"data_dst\"]\n",
        "Detector = \"S3FD (whole face)\" #@param [\"S3FD\", \"S3FD (whole face)\"]\n",
        "Debug = False #@param {type:\"boolean\"}\n",
        "\n",
        "detect_type = \"s3fd\"\n",
        "dbg = \" --output-debug\" if Debug else \" --no-output-debug\"\n",
        "\n",
        "folder = \"workspace/\"+Data\n",
        "folder_aligned = folder+\"/aligned\"\n",
        "\n",
        "cmd = \"DeepFaceLab/main.py extract --max-faces-from-image 0 --image-size 640 --jpeg-quality 100 --input-dir \"+folder+\" --output-dir \"+folder_aligned\n",
        "cmd+=\" --detector \"+detect_type+\" --force-gpu-idxs 0\"+dbg\n",
        "\n",
        "if \"whole face\" in Detector:\n",
        "  cmd+=\" --face-type whole_face\" \n",
        "%cd \"/content\"\n",
        "!python $cmd"
      ],
      "execution_count": null,
      "outputs": []
    },
    {
      "cell_type": "code",
      "metadata": {
        "id": "0nz_m3skztFs",
        "cellView": "form"
      },
      "source": [
        "#@title Denoise frames\n",
        "Data = \"data_src\" #@param [\"data_src\", \"data_dst\"]\n",
        "Factor = 10 #@param {type:\"slider\", min:1, max:20, step:1}\n",
        "\n",
        "cmd = \"DeepFaceLab/main.py videoed denoise-image-sequence --input-dir workspace/\"+Data+\" --factor \"+str(Factor)\n",
        "\n",
        "%cd \"/content\"\n",
        "!python $cmd"
      ],
      "execution_count": null,
      "outputs": []
    },
    {
      "cell_type": "code",
      "metadata": {
        "id": "r8F-bCl2ztFt",
        "cellView": "form"
      },
      "source": [
        "#@title Sort aligned\n",
        "Data = \"data_src\" #@param [\"data_src\", \"data_dst\"]\n",
        "sort_type = \"hist\" #@param [\"blur\", \"face-yaw\", \"face-pitch\", \"face-source-rect-size\", \"hist\", \"hist-dissim\", \"brightness\", \"hue\", \"black\", \"origname\", \"oneface\", \"final\", \"final-faster\", \"absdiff\"]\n",
        "\n",
        "cmd = \"DeepFaceLab/main.py sort --input-dir workspace/\"+Data+\"/aligned --by \"+sort_type\n",
        "\n",
        "%cd \"/content\"\n",
        "!python $cmd"
      ],
      "execution_count": null,
      "outputs": []
    },
    {
      "cell_type": "code",
      "metadata": {
        "id": "wij29CnIztFt",
        "cellView": "form"
      },
      "source": [
        "#@title Faceset Enhancer\n",
        "Data = \"data_src\" #@param [\"data_src\", \"data_dst\"]\n",
        "\n",
        "data_path = \"/content/workspace/\"+Data+\"/aligned\"\n",
        "cmd = \"/content/DeepFaceLab/main.py facesettool enhance --input-dir \"+data_path\n",
        "!python $cmd"
      ],
      "execution_count": null,
      "outputs": []
    },
    {
      "cell_type": "code",
      "metadata": {
        "id": "cNXPRABJztFt",
        "cellView": "form"
      },
      "source": [
        "#@title Apply or remove XSeg mask to the faces\n",
        "Mode = \"Remove mask\" #@param [\"Apply mask\", \"Remove mask\"]\n",
        "Data = \"data_src\" #@param [\"data_src\", \"data_dst\"]\n",
        "\n",
        "main_path = \"/content/DeepFaceLab/main.py \"\n",
        "data_path = \"/content/workspace/\"+Data+\"/aligned \"\n",
        "mode_arg = \"apply \" if Mode == \"Apply mask\" else \"remove \"\n",
        "cmd = main_path+\"xseg \"+mode_arg+\"--input-dir \"+data_path\n",
        "cmd += \"--model-dir /content/workspace/model\" if mode_arg == \"apply \" else \"\"\n",
        "\n",
        "!python $cmd"
      ],
      "execution_count": null,
      "outputs": []
    },
    {
      "cell_type": "code",
      "metadata": {
        "id": "OmNM1mKW-iIu",
        "cellView": "form"
      },
      "source": [
        "#@title Prepare Colab machine\n",
        "!pip install dominate\n",
        "\n",
        "from IPython.display import clear_output\n",
        "from google.colab import files\n",
        "from PIL import Image\n",
        "import matplotlib.pyplot as plt\n",
        "import warnings\n",
        "import os\n",
        "\n",
        "warnings.filterwarnings(\"ignore\")\n",
        "%matplotlib inline\n",
        "\n",
        "!rm -rf /content/sample_data\n",
        "!git clone --branch size https://github.com/goodluckmasa/DFDNet.git\n",
        "\n",
        "os.chdir('/content/DFDNet/')\n",
        "!pip install -r requirements.txt\n",
        "\n",
        "link_prefix = 'https://github.com/rocketsvm/DFDNet/releases/download/20200827/'\n",
        "wget_options = '-q --show-progress --progress=bar:noscroll --no-check-certificate -r'\n",
        "!wget $wget_options $link_prefix'latest_net_G.pth' -O 'latest_net_G.pth'\n",
        "!wget $wget_options $link_prefix'left_eye_32_center.npy' -O 'left_eye_32_center.npy'\n",
        "!wget $wget_options $link_prefix'left_eye_64_center.npy' -O 'left_eye_64_center.npy'\n",
        "!wget $wget_options $link_prefix'left_eye_128_center.npy' -O 'left_eye_128_center.npy'\n",
        "!wget $wget_options $link_prefix'left_eye_256_center.npy' -O 'left_eye_256_center.npy'\n",
        "!wget $wget_options $link_prefix'right_eye_32_center.npy' -O 'right_eye_32_center.npy'\n",
        "!wget $wget_options $link_prefix'right_eye_64_center.npy' -O 'right_eye_64_center.npy'\n",
        "!wget $wget_options $link_prefix'right_eye_128_center.npy' -O 'right_eye_128_center.npy'\n",
        "!wget $wget_options $link_prefix'right_eye_256_center.npy' -O 'right_eye_256_center.npy'\n",
        "!wget $wget_options $link_prefix'mouth_32_center.npy' -O 'mouth_32_center.npy'\n",
        "!wget $wget_options $link_prefix'mouth_64_center.npy' -O 'mouth_64_center.npy'\n",
        "!wget $wget_options $link_prefix'mouth_128_center.npy' -O 'mouth_128_center.npy'\n",
        "!wget $wget_options $link_prefix'mouth_256_center.npy' -O 'mouth_256_center.npy'\n",
        "!wget $wget_options $link_prefix'nose_32_center.npy' -O 'nose_32_center.npy'\n",
        "!wget $wget_options $link_prefix'nose_64_center.npy' -O 'nose_64_center.npy'\n",
        "!wget $wget_options $link_prefix'nose_128_center.npy' -O 'nose_128_center.npy'\n",
        "!wget $wget_options $link_prefix'nose_256_center.npy' -O 'nose_256_center.npy'\n",
        "!wget $wget_options $link_prefix'vgg19.pth' -O 'vgg19.pth'\n",
        "!mkdir -p /content/DFDNet/checkpoints/facefh_dictionary\n",
        "!mv latest_net_G.pth /content/DFDNet/checkpoints/facefh_dictionary\n",
        "!mkdir -p /content/DFDNet/DictionaryCenter512\n",
        "!mv *_center.npy /content/DFDNet/DictionaryCenter512\n",
        "!mkdir -p /content/DFDNet/weights\n",
        "!mv vgg19.pth /content/DFDNet/weights\n",
        "\n",
        "!nvidia-smi -L\n",
        "\n",
        "# print(\"0%/100%   Copying has started and will take about 4 minutes.\")\n",
        "# !rsync -ah --progress '/content/drive/My Drive/DFDNet/checkpoints/facefh_dictionary/latest_net_G.pth' '/content/DFDNet/checkpoints/facefh_dictionary'\n",
        "# print(\"33%/100%  Checkpoints copied\")\n",
        "# !rsync -ah --progress  '/content/drive/My Drive/DFDNet/weights/vgg19.pth' '/content/DFDNet/weights/'\n",
        "# print(\"66%/100%  Weights copied\")\n",
        "# !rsync -ah --progress -r '/content/drive/My Drive/DFDNet/DictionaryCenter512/' '/content/DFDNet/DictionaryCenter512/'\n",
        "# print(\"100%/100% Dictionary copied\")"
      ],
      "execution_count": null,
      "outputs": []
    },
    {
      "cell_type": "code",
      "metadata": {
        "id": "11gakvX1_bGM",
        "cellView": "form"
      },
      "source": [
        "#@title move aligned\n",
        "!cp -r /content/workspace/data_src/aligned /content/DFDNet/aligned"
      ],
      "execution_count": null,
      "outputs": []
    },
    {
      "cell_type": "code",
      "metadata": {
        "id": "7dw0pxy__EoW",
        "cellView": "form"
      },
      "source": [
        "#@title Enchance!\n",
        "\n",
        "import os\n",
        "\n",
        "working_dir = \"/content/DFDNet\" #@param {type:\"string\"}\n",
        "aligned_zip = False #@param {type:\"boolean\"}\n",
        "jpeg_quality = 100 #@param {type:\"slider\", min:90, max:100, step:1}\n",
        "\n",
        "#@markdown Pick a folder from your Google Drive.\n",
        "\n",
        "#@markdown **working_dir** should contain **aligned** subfolder or **aligned.zip** file with JPG images that were extracted by DeepFaceLab *'faceset extract'* scripts.\n",
        "\n",
        "#@markdown Results will be saved in **aligned_dfdn** subfolder or **aligned_dfdn.zip** file in **working_dir**.\n",
        "\n",
        "#@markdown If working not in zip mode existing files will be skipped so you can easily continue in case of disconnect.\n",
        "\n",
        "if aligned_zip:\n",
        "  zip_path = os.path.join(working_dir,'aligned.zip')\n",
        "  if not os.path.isfile(zip_path):\n",
        "    print('\"{}\" not found'.format(zip_path))\n",
        "    sys.exit()\n",
        "  !rm -r '/content/aligned'\n",
        "  !rm -r '/content/aligned_dfdn'\n",
        "  !rsync -ah --progress \"$zip_path\" '/content/'\n",
        "  !mkdir -p '/content/aligned'\n",
        "  !7z e '/content/aligned.zip' -o'/content/aligned'\n",
        "  !rm '/content/aligned.zip'\n",
        "  w_dir = '/content/'\n",
        "  tmp_dir = ''\n",
        "else:\n",
        "  in_path = os.path.join(working_dir,'aligned')\n",
        "  out_path = os.path.join(working_dir,'aligned_dfdn')\n",
        "  if not os.path.isdir(in_path):\n",
        "    print('\"{}\" not found'.format(in_path))\n",
        "    sys.exit()\n",
        "  !mkdir -p \"$out_path\"\n",
        "  w_dir = working_dir\n",
        "  tmp_dir = '/content/'\n",
        "\n",
        "os.chdir('/content/DFDNet/')\n",
        "!python -W ignore test_DFL.py --working_dir \"$w_dir\" --jpeg_quality=$jpeg_quality --tmp_dir=\"$tmp_dir\"\n",
        "\n",
        "if aligned_zip:\n",
        "  !rm /content/aligned_dfdn.zip\n",
        "  !7z a /content/aligned_dfdn.zip /content/aligned_dfdn/*\n",
        "  output_zip = os.path.join(working_dir,'aligned_dfdn.zip')\n",
        "  !rsync -ah --progress /content/aligned_dfdn.zip \"$output_zip\"\n",
        "  print('Results saved to \"{}\"'.format(output_zip))"
      ],
      "execution_count": null,
      "outputs": []
    },
    {
      "cell_type": "markdown",
      "metadata": {
        "id": "MPFH07Wo_1TB"
      },
      "source": [
        "#train\n"
      ]
    },
    {
      "cell_type": "code",
      "metadata": {
        "id": "IIuGu12B8Mkn",
        "cellView": "form"
      },
      "source": [
        "#@title Training\n",
        "Model = \"SAEHD\" #@param [\"SAEHD\", \"Quick96\", \"XSeg\"]\n",
        "Backup_every_hour = True #@param {type:\"boolean\"}\n",
        "Silent_Start = True #@param {type:\"boolean\"}\n",
        "\n",
        "%cd \"/content\"\n",
        "\n",
        "#Mount Google Drive as folder\n",
        "from google.colab import drive\n",
        "drive.mount('/content/drive')\n",
        "\n",
        "import psutil, os, time\n",
        "\n",
        "p = psutil.Process(os.getpid())\n",
        "uptime = time.time() - p.create_time()\n",
        "\n",
        "if (Backup_every_hour):\n",
        "  if not os.path.exists('workspace.zip'):\n",
        "    print(\"Creating workspace archive ...\")\n",
        "    !zip -r -q workspace.zip workspace\n",
        "    print(\"Archive created!\")\n",
        "  else:\n",
        "    print(\"Archive exist!\")\n",
        "\n",
        "if (Backup_every_hour):\n",
        "  print(\"Time to end session: \"+str(round((86400-uptime)/3600))+\" hours\")\n",
        "  backup_time = str(13940)\n",
        "  backup_cmd = \" --execute-program -\"+backup_time+\" \\\"import os; os.system('zip -r -q workspace.zip workspace/model'); os.system('cp /content/workspace.zip /content/drive/My\\ Drive/'); print('Backed up!') \\\"\" \n",
        "elif (round(82080-uptime) > 0):\n",
        "  print(\"Time to backup: \"+str(round((82080-uptime)/3600))+\" hours\")\n",
        "  backup_time = str(round(82080-uptime))\n",
        "  backup_cmd = \" --execute-program \"+backup_time+\" \\\"import os; os.system('zip -r -q workspace.zip workspace'); os.system('cp /content/workspace.zip /content/drive/My\\ Drive/'); print('Backed up!') \\\"\" \n",
        "else:\n",
        "  print(\"Session expires in less than an hour.\")\n",
        "  backup_cmd = \"\"\n",
        "    \n",
        "cmd = \"DeepFaceLab/main.py train --training-data-src-dir workspace/data_src/aligned --training-data-dst-dir workspace/data_dst/aligned --pretraining-data-dir pretrain --model-dir workspace/model --model \"+Model\n",
        "\n",
        "if Model == \"Quick96\":\n",
        "  cmd+= \" --pretrained-model-dir pretrain_Q96\"\n",
        "\n",
        "if Silent_Start:\n",
        "  cmd+= \" --silent-start\"\n",
        "\n",
        "if (backup_cmd != \"\"):\n",
        "  train_cmd = (cmd+backup_cmd)\n",
        "else:\n",
        "  train_cmd = (cmd)\n",
        "\n",
        "!python $train_cmd"
      ],
      "execution_count": null,
      "outputs": []
    },
    {
      "cell_type": "code",
      "metadata": {
        "id": "sW_z61_x_5Cq"
      },
      "source": [
        "#@title Training from drive\n",
        "Model = \"SAEHD\" #@param [\"SAEHD\", \"Quick96\", \"XSeg\"]\n",
        "Backup_every_hour = True #@param {type:\"boolean\"}\n",
        "Silent_Start = True #@param {type:\"boolean\"}\n",
        "\n",
        "%cd \"/content/drive/MyDrive/1purlin/barn\"\n",
        "\n",
        "import psutil, os, time\n",
        "\n",
        "p = psutil.Process(os.getpid())\n",
        "uptime = time.time() - p.create_time()\n",
        "\n",
        "if (Backup_every_hour):\n",
        "  print(\"Time to end session: \"+str(round((86400-uptime)/3600))+\" hours\")\n",
        "  backup_time = str(13940)\n",
        "  backup_cmd = \" --execute-program -\"+backup_time+\" \\\"import os; os.system('zip -r -q workspace.zip workspace/model'); os.system('cp /content/workspace.zip /content/drive/My\\ Drive/'); print('Backed up!') \\\"\" \n",
        "elif (round(82080-uptime) > 0):\n",
        "  print(\"Time to backup: \"+str(round((82080-uptime)/3600))+\" hours\")\n",
        "  backup_time = str(round(82080-uptime))\n",
        "  backup_cmd = \" --execute-program \"+backup_time+\" \\\"import os; os.system('zip -r -q workspace.zip workspace'); os.system('cp /content/workspace.zip /content/drive/My\\ Drive/'); print('Backed up!') \\\"\" \n",
        "else:\n",
        "  print(\"Session expires in less than an hour.\")\n",
        "  backup_cmd = \"\"\n",
        "    \n",
        "cmd = \"/content/DeepFaceLab/main.py train --training-data-src-dir workspace/data_src/aligned --training-data-dst-dir workspace/data_dst/aligned --pretraining-data-dir /content/pretrain --model-dir workspace/model --model \"+Model\n",
        "\n",
        "if Model == \"Quick96\":\n",
        "  cmd+= \" --pretrained-model-dir pretrain_Q96\"\n",
        "\n",
        "if Silent_Start:\n",
        "  cmd+= \" --silent-start\"\n",
        "\n",
        "if (backup_cmd != \"\"):\n",
        "  train_cmd = (cmd+backup_cmd)\n",
        "else:\n",
        "  train_cmd = (cmd)\n",
        "\n",
        "!python $train_cmd"
      ],
      "execution_count": null,
      "outputs": []
    },
    {
      "cell_type": "markdown",
      "metadata": {
        "id": "BLHtlmNRCfEk"
      },
      "source": [
        "# pack"
      ]
    },
    {
      "cell_type": "code",
      "metadata": {
        "id": "Qjnn9ZLC4fUT"
      },
      "source": [
        "Type = \"dfd\" #@param [\"srcdrive\", \"dstdrive\",\"srccontet\",\"dstcontent\",\"dfd\"]\n",
        "Download = \"false\" #@param [\"false\", \"true\"]\n",
        "\n",
        "if Type == \"srcdrive\":\n",
        "  %cd \"/content\"\n",
        "  !python DeepFaceLab/main.py util --input-dir \"/content/drive/MyDrive/1purlin/barn/workspace/data_src/aligned/\"  --pack-faceset\n",
        "\n",
        "if Type == \"dstdrive\":\n",
        "  %cd \"/content\"\n",
        "  !python DeepFaceLab/main.py util --input-dir \"/content/drive/MyDrive/1purlin/barn/workspace/data_dst/aligned/\"  --pack-faceset\n",
        "\n",
        "if Type == \"srccontet\":\n",
        "  %cd \"/content\"\n",
        "  !python DeepFaceLab/main.py util --input-dir \"workspace/data_src/aligned/\"  --pack-faceset\n",
        "\n",
        "if Type == \"dstcontent\": \n",
        "  %cd \"/content\"\n",
        "  !python DeepFaceLab/main.py util --input-dir \"workspace/data_dst/aligned/\"  --pack-faceset\n",
        "\n",
        "if Type == \"dfd\": \n",
        "  %cd \"/content\"\n",
        "  !python DeepFaceLab/main.py util --input-dir \"DFDNet/aligned_dfdn/\"  --pack-faceset"
      ],
      "execution_count": null,
      "outputs": []
    },
    {
      "cell_type": "code",
      "metadata": {
        "id": "A9okyFfWC_PW",
        "cellView": "form"
      },
      "source": [
        "#@title copy to drive\n",
        "Type = \"dfd\" #@param [\"src\", \"dst\",\"dfd\"]\n",
        "\n",
        "if Type == \"dfd\":\n",
        "  !cp -r /content/DFDNet/aligned_dfdn/faceset.pak /content/drive/MyDrive/1purlin/\n",
        "\n",
        "if Type == \"src\":\n",
        "  !cp -r /content/workspace/data_src/faceset.pak /content/drive/MyDrive/1purlin/\n",
        "\n",
        "if Type == \"dst\":\n",
        "  !cp -r /content/workspace/data_dst/faceset.pak /content/drive/MyDrive/1purlin/"
      ],
      "execution_count": null,
      "outputs": []
    },
    {
      "cell_type": "markdown",
      "metadata": {
        "id": "EJwtv3AnANMx"
      },
      "source": [
        "# merge"
      ]
    },
    {
      "cell_type": "code",
      "metadata": {
        "id": "A3Y8K22Sv9Gn"
      },
      "source": [
        "#@title Merge\n",
        "Model = \"SAEHD\" #@param [\"SAEHD\", \"Quick96\" ]\n",
        "\n",
        "%cd \"/content/drive/MyDrive/1purlin/barn1\"\n",
        "\n",
        "cmd = \"/content/DeepFaceLab/main.py merge --input-dir workspace/data_dst --output-dir workspace/data_dst/merged --output-mask-dir workspace/data_dst/merged_mask --aligned-dir workspace/data_dst/aligned --model-dir workspace/model --model \"+Model\n",
        "\n",
        "!python $cmd"
      ],
      "execution_count": null,
      "outputs": []
    },
    {
      "cell_type": "code",
      "metadata": {
        "id": "JNeGfiZpxlnz"
      },
      "source": [
        "#@title Get result video \n",
        "Mode = \"result video\" #@param [\"result video\", \"result_mask video\"]\n",
        "Copy_to_Drive = False #@param {type:\"boolean\"}\n",
        "\n",
        "%cd \"/content/drive/MyDrive/1purlin/barn1\"\n",
        "\n",
        "if Mode == \"result video\":\n",
        "  !python /content/DeepFaceLab/main.py videoed video-from-sequence --input-dir workspace/data_dst/merged --output-file workspace/result.mp4 --reference-file workspace/data_dst.mp4 --include-audio\n",
        "  if Copy_to_Drive:\n",
        "    !cp /content/workspace/result.mp4 /content/drive/My\\ Drive/\n",
        "elif Mode == \"result_mask video\":\n",
        "  !python /content/DeepFaceLab/main.py videoed video-from-sequence --input-dir workspace/data_dst/merged_mask --output-file workspace/result_mask.mp4 --reference-file workspace/data_dst.mp4\n",
        "  if Copy_to_Drive:\n",
        "    !cp /content/workspace/result_mask.mp4 /content/drive/My\\ Drive/\n"
      ],
      "execution_count": null,
      "outputs": []
    },
    {
      "cell_type": "code",
      "metadata": {
        "id": "5T5pgPJw-Zha",
        "cellView": "form"
      },
      "source": [
        "#@title Merge\n",
        "Model = \"SAEHD\" #@param [\"SAEHD\", \"Quick96\" ]\n",
        "\n",
        "cmd = \"DeepFaceLab/main.py merge --input-dir workspace/data_dst --output-dir workspace/data_dst/merged --output-mask-dir workspace/data_dst/merged_mask --aligned-dir workspace/data_dst/aligned --model-dir workspace/model --model \"+Model\n",
        "\n",
        "%cd \"/content\"\n",
        "!python $cmd"
      ],
      "execution_count": null,
      "outputs": []
    },
    {
      "cell_type": "code",
      "metadata": {
        "id": "quf5RLeS-Zha",
        "cellView": "form"
      },
      "source": [
        "#@title Get result video \n",
        "Mode = \"result video\" #@param [\"result video\", \"result_mask video\"]\n",
        "Copy_to_Drive = True #@param {type:\"boolean\"}\n",
        "\n",
        "\n",
        "if Mode == \"result video\":\n",
        "  !python DeepFaceLab/main.py videoed video-from-sequence --input-dir workspace/data_dst/merged --output-file workspace/result.mp4 --reference-file workspace/data_dst.mp4 --include-audio\n",
        "  if Copy_to_Drive:\n",
        "    !cp /content/workspace/result.mp4 /content/drive/My\\ Drive/\n",
        "elif Mode == \"result_mask video\":\n",
        "  !python DeepFaceLab/main.py videoed video-from-sequence --input-dir workspace/data_dst/merged_mask --output-file workspace/result_mask.mp4 --reference-file workspace/data_dst.mp4\n",
        "  if Copy_to_Drive:\n",
        "    !cp /content/workspace/result_mask.mp4 /content/drive/My\\ Drive/\n"
      ],
      "execution_count": null,
      "outputs": []
    },
    {
      "cell_type": "code",
      "metadata": {
        "id": "hxfpSkVO3BWU"
      },
      "source": [
        "cmd = \"mkdir /content/workspace; mkdir /content/workspace/data_src; mkdir /content/workspace/data_src/aligned; mkdir /content/workspace/data_dst; mkdir /content/workspace/data_dst/aligned; mkdir /content/workspace/model\"\n",
        "!$cmd"
      ],
      "execution_count": null,
      "outputs": []
    }
  ]
}